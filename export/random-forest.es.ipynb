{
 "cells": [
  {
   "cell_type": "markdown",
   "id": "94a2e28e",
   "metadata": {},
   "source": [
    "# Random Forest\n",
    "\n",
    "**¿Qué es el Random Forest**\n",
    "\n",
    "**¿En qué se diferencia Random Forest de los algoritmos tradicionales de Decision Tree?**\n",
    "\n",
    "Random Forest es un método de conjunto que utiliza árboles de decisión empaquetados con subconjuntos de características aleatorias elegidos en cada punto de división. Luego, promedia los resultados de predicción de cada árbol (regresión) o usa los votos de cada árbol (clasificación) para hacer la predicción final.\n",
    "\n",
    "**¿Qué hiperparámetros se pueden ajustar para un bosque aleatorio que se suman a los hiperparámetros de cada árbol individual?**\n",
    "\n",
    "El Random Forest es esencialmente árboles de decisión empaquetados con subconjuntos de características aleatorias elegidos en cada punto de división, por lo que tenemos 2 nuevos hiperparámetros que podemos ajustar:\n",
    "\n",
    "Num estimators - el número de árboles de decisión en el bosque.\n",
    "\n",
    "características máximas: número máximo de características que se evalúan para dividir en cada nodo.\n",
    "\n",
    "**¿Son los modelos de Random Forest propensos al sobreajuste? ¿Por qué?**\n",
    "\n",
    "No, los modelos de Random Forest generalmente no son propensos a sobreajustarse porque la selección aleatoria de funciones y el embolsado tienden a promediar cualquier ruido en el modelo. La adición de más árboles no provoca el sobreajuste, ya que el proceso de aleatorización continúa promediando el ruido (más árboles generalmente reducen el sobreajuste en el bosque aleatorio).\n",
    "\n",
    "En general, los algoritmos de ensacado son resistentes al sobreajuste.\n",
    "\n",
    "Dicho esto, es posible sobreajustar con modelos de Random Forest si los árboles de decisión subyacentes tienen una varianza extremadamente alta. En cada punto de división se considera una profundidad extremadamente alta y una división de muestra mínima baja, y un gran porcentaje de características. Por ejemplo, si todos los árboles son idénticos, el Random Forest puede sobreajustar los datos."
   ]
  }
 ],
 "metadata": {
  "kernelspec": {
   "display_name": "Python 3 (ipykernel)",
   "language": "python",
   "name": "python3"
  },
  "language_info": {
   "codemirror_mode": {
    "name": "ipython",
    "version": 3
   },
   "file_extension": ".py",
   "mimetype": "text/x-python",
   "name": "python",
   "nbconvert_exporter": "python",
   "pygments_lexer": "ipython3",
   "version": "3.9.7"
  }
 },
 "nbformat": 4,
 "nbformat_minor": 5
}
