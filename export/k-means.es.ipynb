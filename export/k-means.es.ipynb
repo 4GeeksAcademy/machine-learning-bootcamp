{
 "cells": [
  {
   "cell_type": "markdown",
   "id": "b742e555",
   "metadata": {},
   "source": [
    "# K-medias\n",
    "\n",
    "El agrupamiento de k-medias es un algoritmo de agrupamiento no supervisado que divide las observaciones en k agrupamientos. \n",
    "\n",
    "Las medias de los conglomerados generalmente se aleatorizan al principio (a menudo eligiendo observaciones aleatorias de los datos) y luego se actualizan a medida que se observan más registros.\n",
    "\n",
    "En cada iteración, se asigna una nueva observación a un conglomerado en función de la media del conglomerado más cercana y luego se vuelven a calcular o actualizar las medias, con la nueva información de observación incluida.\n",
    "\n",
    "**¿Cuál es un caso de uso común para la agrupación en clústeres k-mean?**\n",
    "\n",
    "La segmentación de clientes es probablemente el caso de uso más común para la agrupación en clústeres de k-means (aunque tiene muchos usos)."
   ]
  }
 ],
 "metadata": {
  "kernelspec": {
   "display_name": "Python 3 (ipykernel)",
   "language": "python",
   "name": "python3"
  },
  "language_info": {
   "codemirror_mode": {
    "name": "ipython",
    "version": 3
   },
   "file_extension": ".py",
   "mimetype": "text/x-python",
   "name": "python",
   "nbconvert_exporter": "python",
   "pygments_lexer": "ipython3",
   "version": "3.9.7"
  }
 },
 "nbformat": 4,
 "nbformat_minor": 5
}
