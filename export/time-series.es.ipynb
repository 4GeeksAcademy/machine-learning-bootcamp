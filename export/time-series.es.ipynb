{
 "cells": [
  {
   "cell_type": "markdown",
   "metadata": {},
   "source": [
    "Fuente: \n",
    "\n",
    "https://towardsdatascience.com/how-to-forecast-time-series-with-multiple-seasonalities-23c77152347e"
   ]
  }
 ],
 "metadata": {
  "language_info": {
   "name": "python"
  },
  "orig_nbformat": 4
 },
 "nbformat": 4,
 "nbformat_minor": 2
}
