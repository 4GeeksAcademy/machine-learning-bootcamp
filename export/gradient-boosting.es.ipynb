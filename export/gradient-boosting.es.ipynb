{
 "cells": [
  {
   "cell_type": "markdown",
   "id": "c594ead4",
   "metadata": {},
   "source": [
    "# Aumento de gradiente\n",
    "\n",
    "**¿En qué se diferencian las máquinas de aumento de gradiente de los algoritmos de árboles de decisión tradicionales?**\n",
    "\n",
    "El aumento de gradiente implica el uso de múltiples predictores débiles (árboles de decisión) para crear un predictor fuerte. Específicamente, incluye una función de pérdida que calcula el gradiente del error con respecto a cada característica y luego crea iterativamente nuevos árboles de decisión que minimizan el error actual. Se agregan más y más árboles al modelo actual para continuar corrigiendo errores hasta que las mejoras caen por debajo de un umbral mínimo o se ha creado un número predeterminado de árboles.\n",
    "\n",
    "**¿Qué hiperparámetros se pueden ajustar en el aumento de gradiente además de los hiperparámetros de cada árbol individual?**\n",
    "\n",
    "Los principales hiperparámetros que se pueden ajustar con los modelos GBM son:\n",
    "\n",
    "- Loss function - función de pérdida para calcular el gradiente de error.\n",
    "\n",
    "- Learning rate - la velocidad a la que los árboles nuevos corrigen/modifican el predictor existente.\n",
    "\n",
    "- Num estimators - el número total de árboles a producir para el predictor final.\n",
    "\n",
    "**Hiperparámetros adicionales específicos de la función de pérdida**\n",
    "\n",
    "Algunas implementaciones específicas, por ejemplo, el aumento de gradiente estocástico, pueden tener hiperparámetros adicionales, como el tamaño de la submuestra (el tamaño de la submuestra afecta la aleatorización en las variaciones estocásticas).\n",
    "\n",
    "**¿Cómo podemos reducir el sobreajuste al aumentar el gradiente?**\n",
    "\n",
    "Reducir la tasa de aprendizaje o reducir el número máximo de estimadores son las dos formas más fáciles de lidiar con modelos de aumento de gradiente que sobreajustan los datos.\n",
    "\n",
    "Con el aumento de gradiente estocástico, la reducción del tamaño de la submuestra es una forma adicional de combatir el sobreajuste.\n",
    "\n",
    "Los algoritmos de refuerzo tienden a ser vulnerables al sobreajuste, por lo que es importante saber cómo reducir el sobreajuste."
   ]
  }
 ],
 "metadata": {
  "kernelspec": {
   "display_name": "Python 3 (ipykernel)",
   "language": "python",
   "name": "python3"
  },
  "language_info": {
   "codemirror_mode": {
    "name": "ipython",
    "version": 3
   },
   "file_extension": ".py",
   "mimetype": "text/x-python",
   "name": "python",
   "nbconvert_exporter": "python",
   "pygments_lexer": "ipython3",
   "version": "3.9.7"
  }
 },
 "nbformat": 4,
 "nbformat_minor": 5
}
