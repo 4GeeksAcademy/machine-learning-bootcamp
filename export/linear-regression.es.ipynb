{
 "cells": [
  {
   "cell_type": "markdown",
   "id": "c613e8e8",
   "metadata": {},
   "source": [
    "# Regresión\n",
    "\n",
    "En la regresión, se utilizan una o más variables (predictores) para predecir un resultado (criterio). \n",
    "\n",
    "Regresión lineal:\n",
    "\n",
    "¿Cuáles son los cinco supuestos de regresión lineal y cómo puede verificarlos?\n",
    "\n",
    "1. Linealidad: el objetivo (y) y las características (xi) tienen una relación lineal. Para verificar la linealidad, podemos graficar los errores contra la 'Y' pronosticada y buscar que los valores se distribuyan simétricamente alrededor de una línea horizontal con varianza constante.\n",
    "\n",
    "2. Independencia: los errores no están correlacionados entre sí. Para verificar la independencia, podemos trazar errores a lo largo del tiempo y buscar patrones no aleatorios (para datos de series temporales).\n",
    "\n",
    "3. Normalidad: los errores se distribuyen normalmente. Podemos verificar la normalidad trazando los errores con un histograma.\n",
    "\n",
    "4. Homoscedasticidad: la varianza del término de error es constante a través de los valores del objetivo y las características. Para verificarlo podemos graficar los errores contra la y predicha.\n",
    "\n",
    "5. Sin multicolinealidad: busca correlaciones superiores a ~0,8 entre características."
   ]
  },
  {
   "cell_type": "code",
   "execution_count": null,
   "id": "d8b77b96",
   "metadata": {},
   "outputs": [],
   "source": [
    "# Regresión lineal desde cero\n",
    "import random\n",
    "# Crear datos de regresión\n",
    "xs = np.array(range(1,20))\n",
    "ys = [0,8,10,8,15,20,26,29,38,35,40,60,50,61,70,75,80,88,96]\n",
    "\n",
    "# Poner datos en el diccionario\n",
    "data = dict()\n",
    "for i in list(xs):\n",
    "    data.update({xs[i-1] : ys[i-1]})\n",
    "\n",
    "# Pendiente\n",
    "m = 0\n",
    "# y interceptar\n",
    "b = 0\n",
    "# Tasa de aprendizaje\n",
    "lr = 0.0001\n",
    "# Número de épocas\n",
    "epochs = 100000\n",
    "\n",
    "# Fórmula para línea lineal\n",
    "def lin(x):\n",
    "    return m * x + b\n",
    "\n",
    "# Algoritmo de regresión lineal\n",
    "for i in range(epochs):\n",
    "    # Elije un punto aleatorio y calcula la distancia vertical y la distancia horizontal\n",
    "    rand_point = random.choice(list(data.items()))\n",
    "    vert_dist = abs((m * rand_point[0] + b) - rand_point[1])\n",
    "    hor_dist = rand_point[0]\n",
    "\n",
    "    if (m * rand_point[0] + b) - rand_point[1] < 0:\n",
    "        # Ajusta la línea hacia arriba\n",
    "        m += lr * vert_dist * hor_dist\n",
    "        b += lr * vert_dist   \n",
    "    else:\n",
    "        # Ajusta la línea hacia abajo\n",
    "        m -= lr * vert_dist * hor_dist\n",
    "        b -= lr * vert_dist\n",
    "        \n",
    "# Traza puntos de datos y línea de regresión\n",
    "plt.figure(figsize=(15,6))\n",
    "plt.scatter(data.keys(), data.values())\n",
    "plt.plot(xs, lin(xs))\n",
    "plt.title('Linear Regression result')  \n",
    "print('Slope: {}\\nIntercept: {}'.format(m, b))"
   ]
  },
  {
   "cell_type": "markdown",
   "id": "2359fdb4",
   "metadata": {},
   "source": [
    "Fuente:\n",
    "\n",
    "https://towardsdatascience.com/simple-and-multiple-linear-regression-with-python-c9ab422ec29c"
   ]
  }
 ],
 "metadata": {
  "interpreter": {
   "hash": "0f2f6c680cf484319d387fabac80ca4ff4fc33965036e02100b3fe02600f1423"
  },
  "kernelspec": {
   "display_name": "Python 3.10.1 64-bit",
   "language": "python",
   "name": "python3"
  },
  "language_info": {
   "codemirror_mode": {
    "name": "ipython",
    "version": 3
   },
   "file_extension": ".py",
   "mimetype": "text/x-python",
   "name": "python",
   "nbconvert_exporter": "python",
   "pygments_lexer": "ipython3",
   "version": "3.10.1"
  }
 },
 "nbformat": 4,
 "nbformat_minor": 5
}
