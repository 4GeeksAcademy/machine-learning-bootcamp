{
 "cells": [
  {
   "cell_type": "markdown",
   "id": "ff81b322",
   "metadata": {},
   "source": [
    "# K Vecinos más cercanos\n",
    "\n",
    "KNN hace predicciones promediando los k vecinos más cercanos a un punto de datos determinado. Por ejemplo, si quisiéramos predecir cuánto dinero gastaría un cliente potencial en nuestra tienda, podríamos encontrar los 5 clientes más similares a ella y promediar sus gastos para hacer la predicción.\n",
    "\n",
    "El promedio podría ponderarse en función de la similitud entre los puntos de datos y también podría definirse la métrica de distancia de similitud.\n",
    "\n",
    "**¿KNN es un algoritmo paramétrico o no paramétrico? ¿Se utiliza como clasificador o regresor?**\n",
    "\n",
    "KNN no es paramétrico y se puede utilizar como clasificador o como regresor.\n",
    "\n",
    "**¿Cómo seleccionamos el número ideal de vecinos para KNN?**\n",
    "\n",
    "No existe una solución de forma cerrada para calcular k, por lo que a menudo se utilizan varias heurísticas. Puede ser más fácil simplemente realizar una validación cruzada y probar varios valores diferentes para k y elegir el que produce el error más pequeño durante la validación cruzada.\n",
    "\n",
    "A medida que aumenta k, el sesgo tiende a aumentar y la varianza disminuye."
   ]
  }
 ],
 "metadata": {
  "kernelspec": {
   "display_name": "Python 3 (ipykernel)",
   "language": "python",
   "name": "python3"
  },
  "language_info": {
   "codemirror_mode": {
    "name": "ipython",
    "version": 3
   },
   "file_extension": ".py",
   "mimetype": "text/x-python",
   "name": "python",
   "nbconvert_exporter": "python",
   "pygments_lexer": "ipython3",
   "version": "3.9.7"
  }
 },
 "nbformat": 4,
 "nbformat_minor": 5
}
