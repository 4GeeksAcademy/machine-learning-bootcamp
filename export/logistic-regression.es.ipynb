{
 "cells": [
  {
   "cell_type": "markdown",
   "id": "1e5e27c6",
   "metadata": {},
   "source": [
    "Fuente: \n",
    "\n",
    "https://towardsdatascience.com/a-handbook-for-logistic-regression-bb2d0dc6d8a8"
   ]
  }
 ],
 "metadata": {
  "kernelspec": {
   "display_name": "Python 3 (ipykernel)",
   "language": "python",
   "name": "python3"
  },
  "language_info": {
   "codemirror_mode": {
    "name": "ipython",
    "version": 3
   },
   "file_extension": ".py",
   "mimetype": "text/x-python",
   "name": "python",
   "nbconvert_exporter": "python",
   "pygments_lexer": "ipython3",
   "version": "3.9.7"
  }
 },
 "nbformat": 4,
 "nbformat_minor": 5
}
