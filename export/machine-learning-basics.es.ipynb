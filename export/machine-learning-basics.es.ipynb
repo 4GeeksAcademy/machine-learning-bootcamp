{
 "cells": [
  {
   "cell_type": "markdown",
   "id": "efc0957d",
   "metadata": {},
   "source": [
    "# Básicos de Machine Learning "
   ]
  },
  {
   "cell_type": "markdown",
   "id": "1976af19",
   "metadata": {},
   "source": [
    "¿Qué es Machine Learning? \n",
    "\n",
    "Machine learning es el campo de la ciencia que estudia algoritmos que aproximan funciones cada vez mejor a medida que se les dan más observaciones. Los algoritmos de Machine learning a menudo se utilizan para aprender y automatizar procesos humanos, optimizar resultados, predecir resultados, modelar relaciones complejas y aprender patrones en los datos.\n",
    "\n",
    "**Aprendizaje supervisado vs no supervisado**\n",
    "\n",
    "Aprendizaje supervisado...\n",
    "\n",
    "Los datos etiquetados son datos que tienen la información sobre la variable de destino para cada instancia. Los usos más comunes del aprendizaje supervisado son la regresión y la clasificación.\n",
    "\n",
    "Aprendizaje sin supervisión...\n",
    "\n",
    "Los usos más comunes del aprendizaje automático no supervisado son la agrupación en clústeres, la reducción de la dimensionalidad y la minería de reglas de asociación.\n",
    "\n",
    "**Aprendizaje en línea vs fuera de línea**\n",
    "\n",
    "El aprendizaje en línea se refiere a la actualización gradual de los modelos a medida que obtienen más información.\n",
    "\n",
    "El aprendizaje fuera de línea se refiere al aprendizaje por datos de procesamiento por lotes. Si ingresan nuevos datos, se debe ingresar un lote nuevo completo (incluidos todos los datos antiguos y nuevos) en el algoritmo para aprender de los nuevos datos.\n",
    "\n",
    "**Aprendizaje reforzado**\n",
    "\n",
    "El aprendizaje por refuerzo describe un conjunto de algoritmos que aprenden del resultado de cada decisión. Por ejemplo, un robot podría usar el aprendizaje por refuerzo para aprender que caminar hacia adelante contra una pared es malo, pero alejarse de una pared y caminar es bueno. \n",
    "\n",
    "**¿Cuál es la diferencia entre embolsar y aumentar?**\n",
    "\n",
    "El embolsado y el aumento son métodos de conjunto, lo que significa que combinan muchos predictores débiles para crear un predictor fuerte. Una diferencia clave es que el embolsado construye modelos independientes en paralelo, mientras que el impulso construye modelos secuencialmente, en cada paso enfatizando las observaciones que se perdieron en los pasos anteriores."
   ]
  },
  {
   "cell_type": "markdown",
   "id": "d99f40a0",
   "metadata": {},
   "source": [
    "### ¿Cómo se dividen los datos?\n",
    "\n",
    "¿Qué son los datos de entrenamiento y para qué sirven?\n",
    "\n",
    "Los datos de entrenamiento son un conjunto de ejemplos que se utilizarán para entrenar el modelo de Machine Learning. Para Machine Learning supervisado, estos datos de entrenamiento deben tener una etiqueta. Lo que está tratando de predecir debe ser definido.\n",
    "\n",
    "Para Machine Learning no supervisado, los datos de entrenamiento contendrán solo características y no usarán objetivos etiquetados. Lo que está tratando de predecir no está definido.\n",
    "\n",
    "¿Qué es un conjunto de validación y por qué utilizar uno?\n",
    "\n",
    "Un conjunto de validación es un conjunto de datos que se utiliza para evaluar el rendimiento de un modelo durante el entrenamiento/selección del modelo. Una vez que se entrenan los modelos, se evalúan en el conjunto de validación para seleccionar el mejor modelo posible.\n",
    "\n",
    "Nunca debe usarse para entrenar el modelo directamente.\n",
    "\n",
    "Tampoco debe usarse como el conjunto de datos de prueba porque hemos sesgado nuestra selección de modelo para que funcione bien con estos datos, incluso si el modelo no se entrenó directamente en él.\n",
    "\n",
    "¿Qué es un equipo de prueba y por qué utilizar uno?\n",
    "\n",
    "Un conjunto de prueba es un conjunto de datos que no se utilizan durante el entrenamiento o la validación. El rendimiento del modelo se evalúa en el conjunto de prueba para predecir qué tan bien se generalizará a nuevos datos."
   ]
  },
  {
   "cell_type": "markdown",
   "id": "c5957c1e",
   "metadata": {},
   "source": [
    "### Técnicas de entrenamiento y validación\n",
    "\n",
    "**Train-test-split**\n",
    "\n",
    "**Validación Cruzada**\n",
    "\n",
    "La validación cruzada es una técnica para entrenar y validar modelos con mayor precisión. Rota qué datos se retienen del entrenamiento del modelo para usarlos como datos de validación.\n",
    "\n",
    "Se entrenan y evalúan varios modelos, y cada pieza de datos se obtiene de un modelo. A continuación, se calcula el rendimiento medio de todos los modelos.\n",
    "\n",
    "Es una forma más confiable de validar modelos, pero es más costosa desde el punto de vista computacional. Por ejemplo, la validación cruzada de 5 veces requiere entrenar y validar 5 modelos en lugar de 1."
   ]
  },
  {
   "cell_type": "markdown",
   "id": "17b0ce79",
   "metadata": {},
   "source": [
    "**¿Qué es el sobreajuste?**\n",
    "\n",
    "Sobreajuste cuando un modelo hace predicciones mucho mejores sobre datos conocidos (datos incluidos en el conjunto de entrenamiento) que sobre datos desconocidos (datos no incluidos en el conjunto de entrenamiento).\n",
    "\n",
    "¿Cómo podemos combatir el sobreajuste?\n",
    "\n",
    "Algunas formas de combatir el sobreajuste son:\n",
    "\n",
    "- Simplificar el modelo (a menudo se hace cambiando).\n",
    "\n",
    "- Seleccionar un modelo diferente.\n",
    "\n",
    "- Usar más datos de entrenamiento.\n",
    "\n",
    "- Recopilar datos de mejor calidad para combatir el sobreajuste.\n",
    "\n",
    "¿Cómo podemos saber si nuestro modelo está sobreajustando los datos?\n",
    "\n",
    "Si nuestro error de entrenamiento es bajo y nuestro error de validación es alto, lo más probable es que nuestro modelo esté sobreajustando nuestros datos de entrenamiento.\n",
    "\n",
    "¿Cómo podemos saber si nuestro modelo no se ajusta bien a los datos?\n",
    "\n",
    "Si nuestro error de entrenamiento y validación son relativamente iguales y muy altos, lo más probable es que nuestro modelo no se ajuste bien a nuestros datos de entrenamiento."
   ]
  },
  {
   "cell_type": "markdown",
   "id": "e4157f10",
   "metadata": {},
   "source": [
    "**¿Qué son los datos de pipelines?**\n",
    "\n",
    "Cualquier colección de transformaciones ordenadas en datos."
   ]
  },
  {
   "cell_type": "markdown",
   "id": "1111e530",
   "metadata": {},
   "source": [
    "Fuente:\n",
    "    \n",
    "https://towardsdatascience.com/train-test-split-and-cross-validation-in-python-80b61beca4b6\n",
    "\n",
    "https://www.kdnuggets.com/2020/09/understanding-bias-variance-trade-off-3-minutes.html\n",
    "\n",
    "https://medium.com/@ranjitmaity95/7-tactics-to-combat-imbalanced-classes-in-machine-learning-datase-4266029e2861\n"
   ]
  }
 ],
 "metadata": {
  "kernelspec": {
   "display_name": "Python 3 (ipykernel)",
   "language": "python",
   "name": "python3"
  },
  "language_info": {
   "codemirror_mode": {
    "name": "ipython",
    "version": 3
   },
   "file_extension": ".py",
   "mimetype": "text/x-python",
   "name": "python",
   "nbconvert_exporter": "python",
   "pygments_lexer": "ipython3",
   "version": "3.9.7"
  }
 },
 "nbformat": 4,
 "nbformat_minor": 5
}
